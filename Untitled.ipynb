{
 "cells": [
  {
   "cell_type": "code",
   "execution_count": 1,
   "id": "a685872d-9328-4fd9-b9c2-cd7a3ba2f96d",
   "metadata": {},
   "outputs": [],
   "source": [
    "import numpy as np"
   ]
  },
  {
   "cell_type": "code",
   "execution_count": 11,
   "id": "a9c1c50e-344f-4ee6-b7d8-20cbf6ac7381",
   "metadata": {},
   "outputs": [],
   "source": [
    "def calcular_psi(a, r, theta, phi, g10, g11, h11, g20, g21, h21, g22, h22):\n",
    "    termo1 = a * ((a / r) ** 2) * np.cos(theta) * g10\n",
    "    termo2 = ((a / r) ** 2) * np.sin(theta) * np.cos(theta) * (g11 * np.cos(phi) + h11 * np.sin(phi))\n",
    "    termo3 = ((a / r) ** 3) * np.cos(theta) * g20\n",
    "    termo4 = ((a / r) ** 3) * 0.5774 * 3 * np.cos(theta) * np.sin(theta) * np.cos(theta) * (g21 * np.cos(2 * phi) + h11 * np.sin(2 * phi))\n",
    "    termo5 = ((a / r) ** 3) * 0.2887 * (np.sin(theta) ** 2) * np.cos(theta) * (g22 * np.cos(2 * phi) + h21 * np.sin(2 * phi))\n",
    "    termo6 = ((a / r) ** 3) * (np.cos(theta) ** 2) * (g21 * np.cos(2 * phi) + h11 * np.sin(2 * phi))\n",
    "    termo7 = ((a / r) ** 3) * 0.2887 * (np.sin(theta) ** 2) * np.cos(theta) * (g22 * np.cos(2 * phi) + h22 * np.sin(2 * phi))\n",
    "    \n",
    "    psi = termo1 + termo2 + termo3 + termo4 + termo5 + termo6 + termo7\n",
    "    return psi"
   ]
  },
  {
   "cell_type": "code",
   "execution_count": 12,
   "id": "cd2af6ce-f168-4f9c-b681-d3de739c2deb",
   "metadata": {},
   "outputs": [
    {
     "name": "stdout",
     "output_type": "stream",
     "text": [
      "19113000.2\n"
     ]
    }
   ],
   "source": [
    "g10 = 3 \n",
    "g11 = 0 \n",
    "g20 = 0.2\n",
    "g21 = 0\n",
    "g22 = 0\n",
    "h11 = 0\n",
    "h21 = 0 \n",
    "h22 = 0\n",
    "\n",
    "a = 6371000 #m\n",
    "r = a\n",
    "theta = 0 \n",
    "phi = 0 \n",
    "\n",
    "print(calcular_psi(a, r, theta, phi, g10, g11, h11, g20, g21, h21, g22, h22))"
   ]
  },
  {
   "cell_type": "code",
   "execution_count": 13,
   "id": "1768294c-72f2-4405-b73b-c79141aa9127",
   "metadata": {},
   "outputs": [],
   "source": [
    "def calcular_B(a, r, theta, g10):\n",
    "    B_r = -2 * g10 * (a**3 / r**3) * np.cos(theta)\n",
    "    B_theta = -2 * g10 * (a**3 / r**3) * np.sin(theta)\n",
    "    B_phi = 0\n",
    "    return B_r, B_theta, B_phi"
   ]
  },
  {
   "cell_type": "code",
   "execution_count": 15,
   "id": "48a5689c-55a6-48fb-876a-23b3611f0770",
   "metadata": {},
   "outputs": [
    {
     "name": "stdout",
     "output_type": "stream",
     "text": [
      "Componente B_z: -6.0\n",
      "Componente B_x: -0.0\n",
      "Componente B_y: 0\n"
     ]
    }
   ],
   "source": [
    "B_r, B_theta, B_phi = calcular_B(a, r, theta, g10)\n",
    "print(\"Componente B_z:\", B_r)\n",
    "print(\"Componente B_x:\", B_theta)\n",
    "print(\"Componente B_y:\", B_phi)"
   ]
  },
  {
   "cell_type": "code",
   "execution_count": null,
   "id": "7a29c9fb-b212-49d8-ac02-6d254d73536f",
   "metadata": {},
   "outputs": [],
   "source": []
  }
 ],
 "metadata": {
  "kernelspec": {
   "display_name": "Python 3 (ipykernel)",
   "language": "python",
   "name": "python3"
  },
  "language_info": {
   "codemirror_mode": {
    "name": "ipython",
    "version": 3
   },
   "file_extension": ".py",
   "mimetype": "text/x-python",
   "name": "python",
   "nbconvert_exporter": "python",
   "pygments_lexer": "ipython3",
   "version": "3.10.14"
  }
 },
 "nbformat": 4,
 "nbformat_minor": 5
}
