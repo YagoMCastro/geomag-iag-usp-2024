{
 "cells": [
  {
   "cell_type": "code",
   "execution_count": 1,
   "id": "a685872d-9328-4fd9-b9c2-cd7a3ba2f96d",
   "metadata": {},
   "outputs": [],
   "source": [
    "import numpy as np"
   ]
  },
  {
   "cell_type": "code",
   "execution_count": 8,
   "id": "a9c1c50e-344f-4ee6-b7d8-20cbf6ac7381",
   "metadata": {},
   "outputs": [],
   "source": [
    "def calcular_psi(a, r, theta, phi, g01, g11, h11, g20, g21, h21, g22, h22):\n",
    "    termo1 = a * ((a / r) ** 2) * np.cos(theta) * g01\n",
    "    termo2 = ((a / r) ** 2) * np.sin(theta) * np.cos(theta) * (g11 * np.cos(phi) + h11 * np.sin(phi))\n",
    "    termo3 = ((a / r) ** 3) * np.cos(theta) * g20\n",
    "    termo4 = ((a / r) ** 3) * 0.5774 * 3 * np.cos(theta) * np.sin(theta) * np.cos(theta) * (g21 * np.cos(2 * phi) + h11 * np.sin(2 * phi))\n",
    "    termo5 = ((a / r) ** 3) * 0.2887 * (np.sin(theta) ** 2) * np.cos(theta) * (g22 * np.cos(2 * phi) + h12 * np.sin(2 * phi))\n",
    "    termo6 = ((a / r) ** 3) * (np.cos(theta) ** 2) * (g21 * np.cos(2 * phi) + h11 * np.sin(2 * phi))\n",
    "    termo7 = ((a / r) ** 3) * 0.2887 * (np.sin(theta) ** 2) * np.cos(theta) * (g22 * np.cos(2 * phi) + h22 * np.sin(2 * phi))\n",
    "    \n",
    "    psi = termo1 + termo2 + termo3 + termo4 + termo5 + termo6 + termo7\n",
    "    return psi"
   ]
  },
  {
   "cell_type": "code",
   "execution_count": 10,
   "id": "cd2af6ce-f168-4f9c-b681-d3de739c2deb",
   "metadata": {},
   "outputs": [
    {
     "ename": "NameError",
     "evalue": "name 'h12' is not defined",
     "output_type": "error",
     "traceback": [
      "\u001b[0;31m---------------------------------------------------------------------------\u001b[0m",
      "\u001b[0;31mNameError\u001b[0m                                 Traceback (most recent call last)",
      "Cell \u001b[0;32mIn[10], line 14\u001b[0m\n\u001b[1;32m     12\u001b[0m theta \u001b[38;5;241m=\u001b[39m \u001b[38;5;241m0\u001b[39m \n\u001b[1;32m     13\u001b[0m phi \u001b[38;5;241m=\u001b[39m \u001b[38;5;241m0\u001b[39m \n\u001b[0;32m---> 14\u001b[0m \u001b[38;5;28mprint\u001b[39m(calcular_psi(a, r, theta, phi, g01, g11, h11, g20, g21, \u001b[43mh12\u001b[49m, g22, h22))\n",
      "\u001b[0;31mNameError\u001b[0m: name 'h12' is not defined"
     ]
    }
   ],
   "source": [
    "g10 = 3 \n",
    "g11 = 0 \n",
    "g20 = 0.2\n",
    "g21 = 0\n",
    "g22 = 0\n",
    "h11 = 0\n",
    "h21 = 0 \n",
    "h22 = 0\n",
    "\n",
    "a = 6371000 #m\n",
    "r = a\n",
    "theta = 0 \n",
    "phi = 0 \n",
    "print(calcular_psi(a, r, theta, phi, g01, g11, h11, g20, g21, h12, g22, h22))"
   ]
  },
  {
   "cell_type": "code",
   "execution_count": null,
   "id": "1768294c-72f2-4405-b73b-c79141aa9127",
   "metadata": {},
   "outputs": [],
   "source": []
  }
 ],
 "metadata": {
  "kernelspec": {
   "display_name": "Python 3 (ipykernel)",
   "language": "python",
   "name": "python3"
  },
  "language_info": {
   "codemirror_mode": {
    "name": "ipython",
    "version": 3
   },
   "file_extension": ".py",
   "mimetype": "text/x-python",
   "name": "python",
   "nbconvert_exporter": "python",
   "pygments_lexer": "ipython3",
   "version": "3.10.14"
  }
 },
 "nbformat": 4,
 "nbformat_minor": 5
}
